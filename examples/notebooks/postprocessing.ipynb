{
 "cells": [
  {
   "cell_type": "markdown",
   "id": "24f1cc6b-7d66-480c-8777-5918eb51c918",
   "metadata": {},
   "source": [
    "# Postprocessing\n",
    "-------\n",
    "\n",
    "Run the popstprocessing scripts on the two nearby galaxies with the Dale+(2017) photometry. We have fit these three different ways:\n",
    "\n",
    "1. MCMC exploration with very long chains\n",
    "2. MLE with L-BFGS-B algorithm\n",
    "3. Brief MCMC exploration initialized in a Gaussian ball around the MLE\n",
    "\n",
    "and so we'll compile three catalogs as a result.\n",
    "\n",
    "## Imports"
   ]
  },
  {
   "cell_type": "code",
   "execution_count": 1,
   "id": "4442a5ba-689a-4290-a52d-1e4556c6f229",
   "metadata": {},
   "outputs": [],
   "source": [
    "import numpy as np\n",
    "import h5py \n",
    "import glob\n",
    "\n",
    "from lightning.postprocessing import postprocess_catalog"
   ]
  },
  {
   "cell_type": "markdown",
   "id": "533273be-1dc3-4357-9660-6de7c0438d38",
   "metadata": {},
   "source": [
    "## 1. Pure MCMC"
   ]
  },
  {
   "cell_type": "code",
   "execution_count": 2,
   "id": "4739c03e-77db-416b-bb91-47681e1bddab",
   "metadata": {},
   "outputs": [
    {
     "name": "stderr",
     "output_type": "stream",
     "text": [
      "100%|██████████████████████████████████████████████████████████████████████████████████████████████████████████████████████████████████████████████████████| 2/2 [00:02<00:00,  1.42s/it]\n"
     ]
    }
   ],
   "source": [
    "chain_filenames = ['ngc337_chains.hdf5',\n",
    "                   'ngc628_chains.hdf5']\n",
    "\n",
    "config_filenames = ['ngc337_config.json',\n",
    "                    'ngc628_config.json']\n",
    "\n",
    "postprocess_catalog(chain_filenames,\n",
    "                    config_filenames,\n",
    "                    solver_mode='mcmc',\n",
    "                    model_mode='json',\n",
    "                    names=None, # it'll figure it out\n",
    "                    catalog_name='postprocessed_catalog_puremcmc.hdf5')"
   ]
  },
  {
   "cell_type": "code",
   "execution_count": 19,
   "id": "8b39e208-084a-4527-9edd-796da50947d7",
   "metadata": {},
   "outputs": [
    {
     "name": "stdout",
     "output_type": "stream",
     "text": [
      "A sampling of the locations in the file. Note the hierarchical ordering, which is weirdly hard to view with the Python HDF5 API.\n",
      "I have a CLI app called \"h5tree\" I ripped off from a stackoverflow answer that prints out the hierarchical structure,\n",
      "which I can provide on request.\n",
      "<KeysViewHDF5 ['ngc337', 'ngc628']>\n",
      "<KeysViewHDF5 ['mcmc', 'parameters', 'properties']>\n",
      "<KeysViewHDF5 ['logprob_samples', 'samples']>\n",
      "<KeysViewHDF5 ['atten', 'dust', 'sfh']>\n",
      "<KeysViewHDF5 ['psi_1', 'psi_2', 'psi_3', 'psi_4', 'psi_5']>\n",
      "<KeysViewHDF5 ['best', 'hi', 'lo', 'med']>\n",
      "<KeysViewHDF5 ['filter_labels', 'lnu', 'lnu_unc', 'lumdist', 'mstar', 'pvalue', 'redshift', 'steps_bounds']>\n"
     ]
    }
   ],
   "source": [
    "f = h5py.File('postprocessed_catalog_puremcmc.hdf5')\n",
    "print('A sampling of the locations in the file. Note the hierarchical ordering, which is weirdly hard to visualize with the Python HDF5 API.')\n",
    "print('I have a CLI app called \"h5tree\" I ripped off from a stackoverflow answer that prints out the hierarchical structure,')\n",
    "print('which I can provide on request.')\n",
    "print(f.keys())\n",
    "print(f['ngc337'].keys())\n",
    "print(f['ngc337/mcmc'].keys())\n",
    "print(f['ngc337/parameters'].keys())\n",
    "print(f['ngc337/parameters/sfh'].keys())\n",
    "print(f['ngc337/parameters/sfh/psi_1'].keys())\n",
    "print(f['ngc337/properties'].keys())\n",
    "f.close()"
   ]
  },
  {
   "cell_type": "markdown",
   "id": "24348eff-b437-444a-b462-9f21b385a80d",
   "metadata": {},
   "source": [
    "## 2. MLE only "
   ]
  },
  {
   "cell_type": "code",
   "execution_count": 16,
   "id": "80fdb483-059b-4929-b9dd-6434617a47ad",
   "metadata": {},
   "outputs": [
    {
     "name": "stderr",
     "output_type": "stream",
     "text": [
      "100%|██████████████████████████████████████████████████████████████████████████████████████████████████████████████████████████████████████████████████████| 2/2 [00:02<00:00,  1.14s/it]\n"
     ]
    }
   ],
   "source": [
    "res_filenames = ['ngc337_mle_res.h5',\n",
    "                 'ngc628_mle_res.h5']\n",
    "\n",
    "config_filenames = ['ngc337_config.json',\n",
    "                    'ngc628_config.json']\n",
    "\n",
    "postprocess_catalog(res_filenames,\n",
    "                    config_filenames,\n",
    "                    solver_mode='mle',\n",
    "                    model_mode='json',\n",
    "                    names=None, # it'll figure it out\n",
    "                    catalog_name='postprocessed_catalog_mle.hdf5')"
   ]
  },
  {
   "cell_type": "code",
   "execution_count": 21,
   "id": "48c76cb8-283d-431e-8466-24288defde4d",
   "metadata": {},
   "outputs": [
    {
     "name": "stdout",
     "output_type": "stream",
     "text": [
      "Note now that when we get all the way down into the parameters, we only have the best fit and not the quantiles.\n",
      "On its own, the current MLE implementation does not estimate the uncertainties; for taht you need to run the MCMC followup.\n",
      "<KeysViewHDF5 ['ngc337', 'ngc628']>\n",
      "<KeysViewHDF5 ['parameters', 'properties', 'res']>\n",
      "<KeysViewHDF5 ['bestfit', 'chi2_best']>\n",
      "<KeysViewHDF5 ['atten', 'dust', 'sfh']>\n",
      "<KeysViewHDF5 ['psi_1', 'psi_2', 'psi_3', 'psi_4', 'psi_5']>\n",
      "<KeysViewHDF5 ['best']>\n",
      "<KeysViewHDF5 ['filter_labels', 'lnu', 'lnu_unc', 'lumdist', 'mstar', 'redshift', 'steps_bounds']>\n"
     ]
    }
   ],
   "source": [
    "f = h5py.File('postprocessed_catalog_mle.hdf5')\n",
    "print('Note now that when we get all the way down into the parameters, we only have the best fit and not the quantiles.')\n",
    "print('On its own, the current MLE implementation does not estimate the uncertainties; for taht you need to run the MCMC followup.')\n",
    "print(f.keys())\n",
    "print(f['ngc337'].keys())\n",
    "print(f['ngc337/res'].keys())\n",
    "print(f['ngc337/parameters'].keys())\n",
    "print(f['ngc337/parameters/sfh'].keys())\n",
    "print(f['ngc337/parameters/sfh/psi_1'].keys())\n",
    "print(f['ngc337/properties'].keys())\n",
    "f.close()"
   ]
  },
  {
   "cell_type": "markdown",
   "id": "d651ca04-6cfb-4dc2-867c-3aa68e0ebb40",
   "metadata": {},
   "source": [
    "## 3. MLE with MCMC followup"
   ]
  },
  {
   "cell_type": "code",
   "execution_count": 22,
   "id": "5898b1a6-8931-451c-8cbe-0cf3dfb20982",
   "metadata": {},
   "outputs": [
    {
     "name": "stderr",
     "output_type": "stream",
     "text": [
      "100%|██████████████████████████████████████████████████████████████████████████████████████████████████████████████████████████████████████████████████████| 2/2 [00:02<00:00,  1.47s/it]\n"
     ]
    }
   ],
   "source": [
    "chain_filenames = ['ngc337_mlemcmc_chains.h5',\n",
    "                   'ngc628_mlemcmc_chains.h5']\n",
    "\n",
    "config_filenames = ['ngc337_config.json',\n",
    "                    'ngc628_config.json']\n",
    "\n",
    "postprocess_catalog(chain_filenames,\n",
    "                    config_filenames,\n",
    "                    solver_mode='mcmc',\n",
    "                    model_mode='json',\n",
    "                    names=None, # it'll figure it out\n",
    "                    catalog_name='postprocessed_catalog_mlemcmc.hdf5')"
   ]
  },
  {
   "cell_type": "code",
   "execution_count": 26,
   "id": "ad7658a6-3d3e-4103-a616-bea3d417d751",
   "metadata": {},
   "outputs": [
    {
     "name": "stdout",
     "output_type": "stream",
     "text": [
      "The structure of this file is exactly the same as the \"pure mcmc\" file.\n",
      "You can interpret it exactly the same as we might with a typical MCMC sampling,\n",
      "reporting the median values of the parameters/quantities of interest (though we ran it with much shorter chains, so beware),\n",
      "or you could use the inter-quantile range to estimate the 1 sigma uncertainty around the best fit.\n",
      "<KeysViewHDF5 ['ngc337', 'ngc628']>\n",
      "<KeysViewHDF5 ['mcmc', 'parameters', 'properties']>\n",
      "<KeysViewHDF5 ['logprob_samples', 'samples']>\n",
      "<KeysViewHDF5 ['atten', 'dust', 'sfh']>\n",
      "<KeysViewHDF5 ['psi_1', 'psi_2', 'psi_3', 'psi_4', 'psi_5']>\n",
      "<KeysViewHDF5 ['best', 'hi', 'lo', 'med']>\n",
      "<KeysViewHDF5 ['filter_labels', 'lnu', 'lnu_unc', 'lumdist', 'mstar', 'pvalue', 'redshift', 'steps_bounds']>\n"
     ]
    }
   ],
   "source": [
    "f = h5py.File('postprocessed_catalog_mlemcmc.hdf5')\n",
    "print('The structure of this file is exactly the same as the \"pure mcmc\" file.')\n",
    "print('You can interpret it exactly the same as we might with a typical MCMC sampling,')\n",
    "print('reporting the median values of the parameters/quantities of interest (though we ran it with much shorter chains, so beware),')\n",
    "print('or you could use the inter-quantile range to estimate the 1 sigma uncertainty around the best fit.')\n",
    "print(f.keys())\n",
    "print(f['ngc337'].keys())\n",
    "print(f['ngc337/mcmc'].keys())\n",
    "print(f['ngc337/parameters'].keys())\n",
    "print(f['ngc337/parameters/sfh'].keys())\n",
    "print(f['ngc337/parameters/sfh/psi_1'].keys())\n",
    "print(f['ngc337/properties'].keys())\n",
    "f.close()"
   ]
  },
  {
   "cell_type": "code",
   "execution_count": null,
   "id": "0dc88b5d-89a1-420c-aa72-180da7ec4bf6",
   "metadata": {},
   "outputs": [],
   "source": []
  }
 ],
 "metadata": {
  "kernelspec": {
   "display_name": "Python 3 (ipykernel)",
   "language": "python",
   "name": "python3"
  },
  "language_info": {
   "codemirror_mode": {
    "name": "ipython",
    "version": 3
   },
   "file_extension": ".py",
   "mimetype": "text/x-python",
   "name": "python",
   "nbconvert_exporter": "python",
   "pygments_lexer": "ipython3",
   "version": "3.11.9"
  }
 },
 "nbformat": 4,
 "nbformat_minor": 5
}
