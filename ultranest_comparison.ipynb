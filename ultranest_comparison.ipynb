{
 "cells": [
  {
   "cell_type": "markdown",
   "metadata": {},
   "source": [
    "# Ultranest comparison\n",
    "----------------------\n",
    "Calculate the likelihood surface of the SFH coefficients for NGC 337 for a comparison to the fragmented, multimodal distributions that we see from sampling with Ultranest.\n",
    "\n",
    "This may also give us som eidea of how to better tune the Ultranest sampler for our problem.\n",
    "\n",
    "As of one test, my conclusion is that there's some noise, possibly multimodality, in the true likelihood for $\\psi_2$, which seems to be spreading, due to the strong three way covariance between the first 3 SFH coefficients, to the sampling of the other parameters. Possible solutions:\n",
    "- Tuning the step sampler\n",
    "- Looking into \"fast-slow\" parameters, Ultranest's solution for dealing with parameters which have either outsized or very small $d\\chi^2/d\\theta$\n",
    "\n",
    "## Imports"
   ]
  },
  {
   "cell_type": "code",
   "execution_count": 3,
   "metadata": {},
   "outputs": [],
   "source": [
    "import numpy as np\n",
    "from tqdm import tqdm\n",
    "rng = np.random.default_rng()\n",
    "import astropy.units as u\n",
    "from astropy.table import Table\n",
    "from corner import corner\n",
    "import matplotlib.pyplot as plt\n",
    "plt.style.use('ebm-dejavu')\n",
    "%matplotlib inline\n",
    "\n",
    "from lightning import Lightning\n",
    "from lightning.priors import UniformPrior"
   ]
  },
  {
   "cell_type": "markdown",
   "metadata": {},
   "source": [
    "## Initialize Lightning"
   ]
  },
  {
   "cell_type": "code",
   "execution_count": 2,
   "metadata": {},
   "outputs": [
    {
     "name": "stderr",
     "output_type": "stream",
     "text": [
      "/Users/Erik/Documents/Research/lightning/plightning/lightning/get_filters.py:61: RuntimeWarning: invalid value encountered in true_divide\n",
      "  transm_norm_interp = transm_interp / trapz(transm_interp, wave_grid)\n"
     ]
    },
    {
     "name": "stdout",
     "output_type": "stream",
     "text": [
      "0.165 s elapsed in _get_filters\n",
      "0.001 s elapsed in _get_wave_obs\n",
      "0.569 s elapsed in stellar model setup\n",
      "0.000 s elapsed in dust attenuation model setup\n",
      "1.857 s elapsed in dust emission model setup\n",
      "0.000 s elapsed in agn emission model setup\n",
      "2.592 s elapsed total\n"
     ]
    }
   ],
   "source": [
    "cat = Table.read('example_photometry/ngc337_dale17_photometry.fits')\n",
    "\n",
    "# Some annoyance with converting table columns to flat numpy arrays and text encoding:\n",
    "# strings come in as bytestrings (unencoded) by default python wants UTF-8, I think.\n",
    "# The labels are also padded with spaces.\n",
    "filter_labels = np.array([s.decode().strip() for s in cat['FILTER_LABELS'].data[0]])\n",
    "fnu_obs = cat['FNU_OBS'].data[0]\n",
    "fnu_unc = cat['FNU_UNC'].data[0]\n",
    "dl = cat['LUMIN_DIST'].data[0]\n",
    "\n",
    "l = Lightning(filter_labels, \n",
    "              lum_dist=dl, \n",
    "              SFH_type='Piecewise-Constant',\n",
    "              atten_type='Modified-Calzetti',\n",
    "              dust_emission=True,\n",
    "              model_unc=0.10,\n",
    "              print_setup_time=True)\n",
    "\n",
    "l.flux_obs = fnu_obs * 1e3\n",
    "l.flux_unc = fnu_unc * 1e3"
   ]
  },
  {
   "cell_type": "markdown",
   "metadata": {},
   "source": [
    "## Calculate the surface"
   ]
  },
  {
   "cell_type": "code",
   "execution_count": 47,
   "metadata": {},
   "outputs": [
    {
     "name": "stderr",
     "output_type": "stream",
     "text": [
      "100%|██████████| 4800000/4800000 [2:28:41<00:00, 538.01it/s]  \n"
     ]
    }
   ],
   "source": [
    "p = np.array([1,1,1,1,1,\n",
    "              0.2, -1.0, 0.0,\n",
    "              2, 3, 3e5, 0.01, 0.02]) # Parameters other than psi are fixed close to the mode.\n",
    "\n",
    "# const_dim = np.array([False, False, False, False, False,\n",
    "#                       False, False, True,\n",
    "#                       True, False, True, False, False])\n",
    "\n",
    "# For better sampling it might be smarter to grid the coefficients\n",
    "# independently.\n",
    "Npoints = 20\n",
    "Npoints_fine = 30\n",
    "sfh_grid = np.linspace(0, 6, Npoints) # That's a lot of likelihood evaluations\n",
    "sfh_grid_fine = np.linspace(0, 6, Npoints_fine)\n",
    "\n",
    "chi2 = np.zeros((Npoints, Npoints_fine, Npoints, Npoints, Npoints))\n",
    "\n",
    "# This oculd be coded more efficiently, but it makes\n",
    "# reassembling the 5D likelihood after the fact harder.\n",
    "with tqdm(total=(Npoints**4 * Npoints_fine)) as pbar:\n",
    "    for i, psi1 in enumerate(sfh_grid):\n",
    "        for j, psi2 in enumerate(sfh_grid_fine):\n",
    "            for k, psi3 in enumerate(sfh_grid):\n",
    "                for m, psi4 in enumerate(sfh_grid):\n",
    "\n",
    "                    pp = np.tile(p, (Npoints, 1))\n",
    "                    pp[:,0] = psi1\n",
    "                    pp[:,1] = psi2\n",
    "                    pp[:,2] = psi3\n",
    "                    pp[:,3] = psi4\n",
    "                    pp[:,4] = sfh_grid\n",
    "\n",
    "                    chi2[i,j,k,m,:] = 2 * l.get_model_likelihood(pp, negative=True)\n",
    "                    \n",
    "                    pbar.update(Npoints)\n",
    "                "
   ]
  },
  {
   "cell_type": "markdown",
   "metadata": {},
   "source": [
    "## Save our work"
   ]
  },
  {
   "cell_type": "code",
   "execution_count": 48,
   "metadata": {},
   "outputs": [],
   "source": [
    "np.save('NGC337_psi_chi2.npy', chi2)"
   ]
  },
  {
   "cell_type": "markdown",
   "metadata": {},
   "source": [
    "## Marginalize"
   ]
  },
  {
   "cell_type": "code",
   "execution_count": null,
   "metadata": {},
   "outputs": [],
   "source": [
    "#chi2 = np.load('NGC337_psi_chi2.npy')"
   ]
  },
  {
   "cell_type": "code",
   "execution_count": 49,
   "metadata": {},
   "outputs": [],
   "source": [
    "dchi2 = chi2 - np.amin(chi2)\n",
    "prob = np.exp(-0.5 * dchi2)\n",
    "\n",
    "from scipy.integrate import trapz\n",
    "\n",
    "norm = trapz(trapz(trapz(trapz(trapz(dchi2, sfh_grid, axis=0),sfh_grid_fine, axis=0), sfh_grid, axis=0), sfh_grid, axis=0), sfh_grid, axis=0)\n",
    "\n",
    "prob = prob / norm\n",
    "\n",
    "# Gross\n",
    "psi1_post = trapz(trapz(trapz(trapz(prob, sfh_grid, axis=-1), sfh_grid, axis=-1), sfh_grid, axis=-1), sfh_grid_fine, axis=-1)\n",
    "psi2_post = trapz(trapz(trapz(trapz(prob, sfh_grid, axis=0), sfh_grid, axis=-1), sfh_grid, axis=-1), sfh_grid, axis=-1)\n",
    "psi3_post = trapz(trapz(trapz(trapz(prob, sfh_grid, axis=0), sfh_grid_fine, axis=0), sfh_grid, axis=-1), sfh_grid, axis=-1)\n",
    "psi4_post = trapz(trapz(trapz(trapz(prob, sfh_grid, axis=0), sfh_grid_fine, axis=0), sfh_grid, axis=0), sfh_grid, axis=-1)\n",
    "psi5_post = trapz(trapz(trapz(trapz(prob, sfh_grid, axis=0), sfh_grid_fine, axis=0), sfh_grid, axis=0), sfh_grid, axis=0)\n",
    "\n",
    "# These will need to be transposed to get them from ij -> xy ordering.\n",
    "psi12_post = trapz(trapz(trapz(prob, sfh_grid, axis=-1), sfh_grid, axis=-1), sfh_grid, axis=-1)\n",
    "psi23_post = trapz(trapz(trapz(prob, sfh_grid, axis=0), sfh_grid, axis=-1), sfh_grid, axis=-1)\n"
   ]
  },
  {
   "cell_type": "code",
   "execution_count": 50,
   "metadata": {},
   "outputs": [
    {
     "data": {
      "text/plain": [
       "(0, 5.834740844351994e-08)"
      ]
     },
     "execution_count": 50,
     "metadata": {},
     "output_type": "execute_result"
    },
    {
     "data": {
      "image/png": "[encoded data removed]",
      "text/plain": [
       "<Figure size 1152x288 with 5 Axes>"
      ]
     },
     "metadata": {
      "needs_background": "light"
     },
     "output_type": "display_data"
    }
   ],
   "source": [
    "fig, axs = plt.subplots(1,5, figsize=(16,4))\n",
    "\n",
    "axs[0].plot(sfh_grid, psi1_post)\n",
    "axs[1].plot(sfh_grid_fine, psi2_post)\n",
    "axs[2].plot(sfh_grid, psi3_post)\n",
    "axs[3].plot(sfh_grid, psi4_post)\n",
    "axs[4].plot(sfh_grid, psi5_post)\n",
    "\n",
    "axs[0].set_ylabel('PDF')\n",
    "\n",
    "axs[0].set_xlabel(r'$\\psi_1\\ [\\rm M_{\\odot}\\ yr^{-1}]$')\n",
    "axs[1].set_xlabel(r'$\\psi_2\\ [\\rm M_{\\odot}\\ yr^{-1}]$')\n",
    "axs[2].set_xlabel(r'$\\psi_3\\ [\\rm M_{\\odot}\\ yr^{-1}]$')\n",
    "axs[3].set_xlabel(r'$\\psi_4\\ [\\rm M_{\\odot}\\ yr^{-1}]$')\n",
    "axs[4].set_xlabel(r'$\\psi_5\\ [\\rm M_{\\odot}\\ yr^{-1}]$')\n",
    "\n",
    "axs[0].set_ylim(0,)\n",
    "axs[1].set_ylim(0,)\n",
    "axs[2].set_ylim(0,)\n",
    "axs[3].set_ylim(0,)\n",
    "axs[4].set_ylim(0,)\n"
   ]
  },
  {
   "cell_type": "code",
   "execution_count": 51,
   "metadata": {},
   "outputs": [
    {
     "data": {
      "text/plain": [
       "Text(0.5, 0, '$\\\\psi_3\\\\ [\\\\rm M_{\\\\odot}\\\\ yr^{-1}]$')"
      ]
     },
     "execution_count": 51,
     "metadata": {},
     "output_type": "execute_result"
    },
    {
     "data": {
      "image/png": "[encoded data removed]",
      "text/plain": [
       "<Figure size 576x288 with 2 Axes>"
      ]
     },
     "metadata": {
      "needs_background": "light"
     },
     "output_type": "display_data"
    }
   ],
   "source": [
    "fig2, axs2 = plt.subplots(1,2, figsize=(8,4))\n",
    "\n",
    "axs2[0].imshow(psi12_post.T, origin='lower', extent=[0,6,0,6])\n",
    "axs2[1].imshow(psi23_post, origin='lower', extent=[0,6,0,6])\n",
    "\n",
    "axs2[1].set_yticklabels([])\n",
    "\n",
    "axs2[0].set_xlabel(r'$\\psi_1\\ [\\rm M_{\\odot}\\ yr^{-1}]$')\n",
    "axs2[0].set_ylabel(r'$\\psi_2\\ [\\rm M_{\\odot}\\ yr^{-1}]$')\n",
    "\n",
    "axs2[1].set_xlabel(r'$\\psi_3\\ [\\rm M_{\\odot}\\ yr^{-1}]$')\n",
    "\n",
    "# axs2[0].set_xlim(0,2.5)\n",
    "# axs2[1].set_xlim(2,5)"
   ]
  },
  {
   "cell_type": "code",
   "execution_count": null,
   "metadata": {},
   "outputs": [],
   "source": []
  },
  {
   "cell_type": "code",
   "execution_count": null,
   "metadata": {},
   "outputs": [],
   "source": []
  }
 ],
 "metadata": {
  "kernelspec": {
   "display_name": "Python 3",
   "language": "python",
   "name": "python3"
  },
  "language_info": {
   "codemirror_mode": {
    "name": "ipython",
    "version": 3
   },
   "file_extension": ".py",
   "mimetype": "text/x-python",
   "name": "python",
   "nbconvert_exporter": "python",
   "pygments_lexer": "ipython3",
   "version": "3.6.9"
  }
 },
 "nbformat": 4,
 "nbformat_minor": 4
}
